{
  "nbformat": 4,
  "nbformat_minor": 0,
  "metadata": {
    "colab": {
      "provenance": [],
      "authorship_tag": "ABX9TyM6IG0cdgvkZK2tdjc5rIsB",
      "include_colab_link": true
    },
    "kernelspec": {
      "name": "python3",
      "display_name": "Python 3"
    },
    "language_info": {
      "name": "python"
    }
  },
  "cells": [
    {
      "cell_type": "markdown",
      "metadata": {
        "id": "view-in-github",
        "colab_type": "text"
      },
      "source": [
        "<a href=\"https://colab.research.google.com/github/maracasabat/Data-Science-HW7/blob/main/Hw7_2.ipynb\" target=\"_parent\"><img src=\"https://colab.research.google.com/assets/colab-badge.svg\" alt=\"Open In Colab\"/></a>"
      ]
    },
    {
      "cell_type": "markdown",
      "source": [
        "# Завдання 2 (iris)"
      ],
      "metadata": {
        "id": "Z3Vx_ZnY9WJl"
      }
    },
    {
      "cell_type": "code",
      "source": [
        "from sklearn.datasets import load_wine, load_iris\n",
        "from sklearn.model_selection import train_test_split\n",
        "from sklearn.linear_model import RidgeClassifier, LogisticRegression\n",
        "from sklearn.multiclass import OneVsRestClassifier\n",
        "from sklearn.svm import SVC, LinearSVC\n",
        "from sklearn.metrics import classification_report, confusion_matrix"
      ],
      "metadata": {
        "id": "wtlaw0hGuQPH"
      },
      "execution_count": null,
      "outputs": []
    },
    {
      "cell_type": "code",
      "source": [
        "iris_dataset = load_iris()"
      ],
      "metadata": {
        "id": "xxQGnTvJxJ6y"
      },
      "execution_count": null,
      "outputs": []
    },
    {
      "cell_type": "code",
      "source": [
        "X, y = load_iris(return_X_y=True)"
      ],
      "metadata": {
        "id": "MV0pX8ZkxRby"
      },
      "execution_count": null,
      "outputs": []
    },
    {
      "cell_type": "code",
      "source": [
        "X_train, X_test, y_train, y_test = train_test_split(X, y, test_size=0.2, random_state=42)"
      ],
      "metadata": {
        "id": "FwXD08ww4Zba"
      },
      "execution_count": null,
      "outputs": []
    },
    {
      "cell_type": "code",
      "source": [],
      "metadata": {
        "id": "CcnQRq-PXD0O"
      },
      "execution_count": null,
      "outputs": []
    },
    {
      "cell_type": "markdown",
      "source": [
        "## Класифікатор \"одни проти всіх\" - OneVsRestClassifier"
      ],
      "metadata": {
        "id": "sy-xGrPA91FR"
      }
    },
    {
      "cell_type": "code",
      "source": [
        "clf = OneVsRestClassifier(SVC()).fit(X_train, y_train)"
      ],
      "metadata": {
        "id": "wChJk9KQ4ipc"
      },
      "execution_count": null,
      "outputs": []
    },
    {
      "cell_type": "code",
      "source": [
        "clf.predict(X_test)"
      ],
      "metadata": {
        "colab": {
          "base_uri": "https://localhost:8080/"
        },
        "id": "rs-rIlez5Dt1",
        "outputId": "e0e67b8d-789b-4433-b8ef-35c6588af312"
      },
      "execution_count": null,
      "outputs": [
        {
          "output_type": "execute_result",
          "data": {
            "text/plain": [
              "array([1, 0, 2, 1, 1, 0, 1, 2, 1, 1, 2, 0, 0, 0, 0, 1, 2, 1, 1, 2, 0, 2,\n",
              "       0, 2, 2, 2, 2, 2, 0, 0])"
            ]
          },
          "metadata": {},
          "execution_count": 6
        }
      ]
    },
    {
      "cell_type": "code",
      "source": [
        "clf.score(X_test, y_test)"
      ],
      "metadata": {
        "colab": {
          "base_uri": "https://localhost:8080/"
        },
        "id": "ySir7StN5Kmm",
        "outputId": "d96a0396-0b22-41df-8fcf-17575c5d1c26"
      },
      "execution_count": null,
      "outputs": [
        {
          "output_type": "execute_result",
          "data": {
            "text/plain": [
              "1.0"
            ]
          },
          "metadata": {},
          "execution_count": 7
        }
      ]
    },
    {
      "cell_type": "markdown",
      "source": [
        "## Логістична регресія. Класифікатор \"один проти решти\" - LogisticRegression"
      ],
      "metadata": {
        "id": "6mqT4O7K-aiN"
      }
    },
    {
      "cell_type": "code",
      "source": [
        "clf2 = LogisticRegression(random_state=42, max_iter=3000).fit(X_train, y_train)"
      ],
      "metadata": {
        "id": "GicH1k0p7xQM"
      },
      "execution_count": null,
      "outputs": []
    },
    {
      "cell_type": "code",
      "source": [
        "clf2.predict(X_test)"
      ],
      "metadata": {
        "colab": {
          "base_uri": "https://localhost:8080/"
        },
        "id": "U8aKAx1R8Mks",
        "outputId": "84a904b2-80eb-4979-be06-51c8adb87072"
      },
      "execution_count": null,
      "outputs": [
        {
          "output_type": "execute_result",
          "data": {
            "text/plain": [
              "array([1, 0, 2, 1, 1, 0, 1, 2, 1, 1, 2, 0, 0, 0, 0, 1, 2, 1, 1, 2, 0, 2,\n",
              "       0, 2, 2, 2, 2, 2, 0, 0])"
            ]
          },
          "metadata": {},
          "execution_count": 9
        }
      ]
    },
    {
      "cell_type": "code",
      "source": [
        "clf2.score(X_test, y_test)"
      ],
      "metadata": {
        "colab": {
          "base_uri": "https://localhost:8080/"
        },
        "id": "mjmUgsBA8Sfr",
        "outputId": "aa42bdfc-1699-46f8-e4a4-f26e73ecc6d4"
      },
      "execution_count": null,
      "outputs": [
        {
          "output_type": "execute_result",
          "data": {
            "text/plain": [
              "1.0"
            ]
          },
          "metadata": {},
          "execution_count": 10
        }
      ]
    },
    {
      "cell_type": "markdown",
      "source": [
        "## Класифікатор Ріджа (регресія з кількома виходами в багатокласовий випадок) - RidgeClassifier"
      ],
      "metadata": {
        "id": "3JxmeBJd-uEc"
      }
    },
    {
      "cell_type": "code",
      "source": [
        "clf3 = RidgeClassifier(random_state=42).fit(X_train, y_train)"
      ],
      "metadata": {
        "id": "o-UcAcEn8mB3"
      },
      "execution_count": null,
      "outputs": []
    },
    {
      "cell_type": "code",
      "source": [
        "clf3.predict(X_test)"
      ],
      "metadata": {
        "colab": {
          "base_uri": "https://localhost:8080/"
        },
        "id": "0ZzG1xLs892M",
        "outputId": "42cefdaa-15fc-42f9-d262-3067b4ebd48b"
      },
      "execution_count": null,
      "outputs": [
        {
          "output_type": "execute_result",
          "data": {
            "text/plain": [
              "array([1, 0, 2, 2, 1, 0, 1, 2, 1, 1, 2, 0, 0, 0, 0, 2, 2, 1, 1, 2, 0, 2,\n",
              "       0, 2, 2, 2, 1, 2, 0, 0])"
            ]
          },
          "metadata": {},
          "execution_count": 12
        }
      ]
    },
    {
      "cell_type": "code",
      "source": [
        "clf3.score(X_test, y_test)"
      ],
      "metadata": {
        "colab": {
          "base_uri": "https://localhost:8080/"
        },
        "id": "6b8CRVzg9EEI",
        "outputId": "aedf5c92-b0da-4e23-e418-b53937d74574"
      },
      "execution_count": null,
      "outputs": [
        {
          "output_type": "execute_result",
          "data": {
            "text/plain": [
              "0.9"
            ]
          },
          "metadata": {},
          "execution_count": 13
        }
      ]
    }
  ]
}